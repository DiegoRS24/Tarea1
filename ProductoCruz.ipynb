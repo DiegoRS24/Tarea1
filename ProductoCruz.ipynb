{
  "nbformat": 4,
  "nbformat_minor": 0,
  "metadata": {
    "colab": {
      "provenance": [],
      "authorship_tag": "ABX9TyPuEshQ3LkWurKjE162vPES",
      "include_colab_link": true
    },
    "kernelspec": {
      "name": "python3",
      "display_name": "Python 3"
    },
    "language_info": {
      "name": "python"
    }
  },
  "cells": [
    {
      "cell_type": "markdown",
      "metadata": {
        "id": "view-in-github",
        "colab_type": "text"
      },
      "source": [
        "<a href=\"https://colab.research.google.com/github/DiegoRS24/Tarea1/blob/main/ProductoCruz.ipynb\" target=\"_parent\"><img src=\"https://colab.research.google.com/assets/colab-badge.svg\" alt=\"Open In Colab\"/></a>"
      ]
    },
    {
      "cell_type": "markdown",
      "source": [
        "Desarrollar un programa que calcule el producto cruz entre dos vectores\n",
        "tridimensionales."
      ],
      "metadata": {
        "id": "UpmbQjCSU2KE"
      }
    },
    {
      "cell_type": "code",
      "execution_count": 14,
      "metadata": {
        "id": "AicL5k5b-56h"
      },
      "outputs": [],
      "source": [
        "#Producto Cruz entre vectores\n",
        "def ProductoCruz(A, B):\n",
        "  \"\"\"\n",
        "    Calcula el producto Cruz entre dos vectores en R^3\n",
        "\n",
        "    :param A: Una vector A representado con una Lista\n",
        "    :type A: list\n",
        "\n",
        "    :param B: Una vector B representado con una Lista\n",
        "    :type B: list\n",
        "\n",
        "    Retorna:\n",
        "    :return: Un vector C tridimensional que es el producto cruz de A con B\n",
        "    :type: list.\n",
        "  \"\"\"\n",
        "  C = []\n",
        "  if len(A)!=len(B) or len(A)!=3 :\n",
        "    print(\"Vectores incompatibles\")\n",
        "  else:\n",
        "    #Método en R^3 del Producto Cruz\n",
        "    c1 = A[1]*B[2] - A[2]*B[1]\n",
        "    c2 = A[2]*B[0] - A[0]*B[2]\n",
        "    c3 = A[0]*B[1] - A[1]*B[0]\n",
        "    C = [c1,c2,c3]\n",
        "  return C"
      ]
    },
    {
      "cell_type": "code",
      "source": [
        "#Ejemplo para vectores validos\n",
        "A = [1,1,0]\n",
        "B = [0,1,1]\n",
        "ProductoCruz(A, B)"
      ],
      "metadata": {
        "colab": {
          "base_uri": "https://localhost:8080/"
        },
        "id": "GhEt1pDfa0nh",
        "outputId": "b0b48458-7cae-4985-eabb-00b359ee36e3"
      },
      "execution_count": 15,
      "outputs": [
        {
          "output_type": "execute_result",
          "data": {
            "text/plain": [
              "[1, -1, 1]"
            ]
          },
          "metadata": {},
          "execution_count": 15
        }
      ]
    },
    {
      "cell_type": "code",
      "source": [
        "#Ejemplo para vectores no validos\n",
        "A = [1,1]\n",
        "B = [0,1,1]\n",
        "ProductoCruz(A, B)"
      ],
      "metadata": {
        "colab": {
          "base_uri": "https://localhost:8080/"
        },
        "id": "AaeROi2rbxy6",
        "outputId": "e41922aa-fa3e-4440-ef45-d741de7c788a"
      },
      "execution_count": 16,
      "outputs": [
        {
          "output_type": "stream",
          "name": "stdout",
          "text": [
            "Vectores incompatibles\n"
          ]
        },
        {
          "output_type": "execute_result",
          "data": {
            "text/plain": [
              "[]"
            ]
          },
          "metadata": {},
          "execution_count": 16
        }
      ]
    }
  ]
}