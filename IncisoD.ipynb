{
  "nbformat": 4,
  "nbformat_minor": 0,
  "metadata": {
    "colab": {
      "provenance": [],
      "authorship_tag": "ABX9TyPPtb6UOqA0owpGY/VpayUF",
      "include_colab_link": true
    },
    "kernelspec": {
      "name": "python3",
      "display_name": "Python 3"
    },
    "language_info": {
      "name": "python"
    }
  },
  "cells": [
    {
      "cell_type": "markdown",
      "metadata": {
        "id": "view-in-github",
        "colab_type": "text"
      },
      "source": [
        "<a href=\"https://colab.research.google.com/github/DiegoRS24/Tarea1/blob/main/IncisoD.ipynb\" target=\"_parent\"><img src=\"https://colab.research.google.com/assets/colab-badge.svg\" alt=\"Open In Colab\"/></a>"
      ]
    },
    {
      "cell_type": "markdown",
      "source": [
        "Haga un programa que realice la potencia de una matriz."
      ],
      "metadata": {
        "id": "9xUa4xxy1Nfk"
      }
    },
    {
      "cell_type": "code",
      "execution_count": 17,
      "metadata": {
        "id": "knsNm4Qe1JZr"
      },
      "outputs": [],
      "source": [
        "import numpy as np\n",
        "#Potencia de una matriz\n",
        "def Potencia(A, z):\n",
        "  \"\"\"\n",
        "    Calcula la Potencia de una matriz.\n",
        "\n",
        "    :param A: Una matriz representada con una Lista\n",
        "    :type A: list\n",
        "\n",
        "    :param z: Un entero positivo\n",
        "    :type z: int\n",
        "\n",
        "    Retorna:\n",
        "    :return: Una matriz D, que es la potencia z de A\n",
        "    :rtype: list.\n",
        "  \"\"\"\n",
        "  #numero de columnas de A\n",
        "  n=len(A[0])\n",
        "\n",
        "  #numero de renglones de A\n",
        "  m=len(A)\n",
        "\n",
        "  #creando una matriz mxn\n",
        "  C = np.zeros((m, n))\n",
        "  B=np.array(A)\n",
        "  if n!=m:\n",
        "    print(\"La potencia de una matriz esta definida en Matrices cuadradas\")\n",
        "  else:\n",
        "    for a in range (z-1): #Veces a multiplicar A por A misma\n",
        "      for i in range(n):\n",
        "        for j in range(n):\n",
        "          for k in range(n):\n",
        "            C[i][j] += A[i][k]*B[k][j]\n",
        "      if a < z-2:\n",
        "        for p in range(n): #Guardando la a potencia en B y reiniciando a C\n",
        "          for q in range(n):\n",
        "            B[p][q] = C[p][q]\n",
        "            C[p][q] = 0\n",
        "\n",
        "  D = C.tolist()\n",
        "  return D"
      ]
    },
    {
      "cell_type": "code",
      "source": [
        "#Ejemplo de una matriz cuadrada\n",
        "A=[[1,1,9],[2,4,7],[3,8,4]]\n",
        "Potencia(A, 4)"
      ],
      "metadata": {
        "colab": {
          "base_uri": "https://localhost:8080/"
        },
        "id": "jo3VD-qF6yk9",
        "outputId": "f49772e5-4aeb-4ee4-c5da-e649af840b29"
      },
      "execution_count": 21,
      "outputs": [
        {
          "output_type": "execute_result",
          "data": {
            "text/plain": [
              "[[4899.0, 11492.0, 12406.0],\n",
              " [5518.0, 12821.0, 14414.0],\n",
              " [6076.0, 13978.0, 16371.0]]"
            ]
          },
          "metadata": {},
          "execution_count": 21
        }
      ]
    },
    {
      "cell_type": "code",
      "source": [
        "#Ejemplo de una matriz no cuadrada\n",
        "A=[[1,1],[2,4],[3,8]]\n",
        "Potencia(A, 4)"
      ],
      "metadata": {
        "colab": {
          "base_uri": "https://localhost:8080/"
        },
        "id": "7MOKJotC9LBs",
        "outputId": "f51c4a47-3475-4647-ff27-344aa799f9dd"
      },
      "execution_count": 22,
      "outputs": [
        {
          "output_type": "stream",
          "name": "stdout",
          "text": [
            "La potencia de una matriz esta definida en Matrices cuadradas\n"
          ]
        },
        {
          "output_type": "execute_result",
          "data": {
            "text/plain": [
              "[[0.0, 0.0], [0.0, 0.0], [0.0, 0.0]]"
            ]
          },
          "metadata": {},
          "execution_count": 22
        }
      ]
    },
    {
      "cell_type": "code",
      "source": [
        "#Ejemplo utilizado en el inciso a, obteniendo el mismo resultado\n",
        "E=[[1,1],[2,2]]\n",
        "Potencia(E, 2)"
      ],
      "metadata": {
        "colab": {
          "base_uri": "https://localhost:8080/"
        },
        "id": "Yc4u55O99YPb",
        "outputId": "3e1a1926-89ae-4bdd-f0a3-9e721ede201e"
      },
      "execution_count": 24,
      "outputs": [
        {
          "output_type": "execute_result",
          "data": {
            "text/plain": [
              "[[3.0, 3.0], [6.0, 6.0]]"
            ]
          },
          "metadata": {},
          "execution_count": 24
        }
      ]
    }
  ]
}