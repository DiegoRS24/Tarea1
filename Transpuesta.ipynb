{
  "nbformat": 4,
  "nbformat_minor": 0,
  "metadata": {
    "colab": {
      "provenance": [],
      "authorship_tag": "ABX9TyPwLfjHI/riaYATVyQ1o9ru",
      "include_colab_link": true
    },
    "kernelspec": {
      "name": "python3",
      "display_name": "Python 3"
    },
    "language_info": {
      "name": "python"
    }
  },
  "cells": [
    {
      "cell_type": "markdown",
      "metadata": {
        "id": "view-in-github",
        "colab_type": "text"
      },
      "source": [
        "<a href=\"https://colab.research.google.com/github/DiegoRS24/Tarea1/blob/main/Transpuesta.ipynb\" target=\"_parent\"><img src=\"https://colab.research.google.com/assets/colab-badge.svg\" alt=\"Open In Colab\"/></a>"
      ]
    },
    {
      "cell_type": "markdown",
      "source": [
        "Haga un programa que realice la transpuesta de una matriz.\n"
      ],
      "metadata": {
        "id": "bmoCIjYYs04U"
      }
    },
    {
      "cell_type": "code",
      "source": [
        "import numpy as np\n",
        "#Transpuesta de una matriz\n",
        "def Transpuesta(A):\n",
        "  \"\"\"\n",
        "    Calcula la Transpuesta de una matriz.\n",
        "\n",
        "    :param A: Una matriz representada con una Lista\n",
        "    :type A: list\n",
        "\n",
        "    Retorna:\n",
        "    :return: Una matriz B, que es la transpuesta de A\n",
        "    :rtype: list.\n",
        "  \"\"\"\n",
        "  #numero de columnas de A\n",
        "  n=len(A[0])\n",
        "  #numero de renglones de A\n",
        "  m=len(A)\n",
        "  #creando una matriz mxn\n",
        "  C = np.zeros((n, m))\n",
        "  for i in range (m):\n",
        "    for j in range (n):\n",
        "      C[j][i] = A[i][j]\n",
        "  B = C.tolist()\n",
        "  return B"
      ],
      "metadata": {
        "id": "U9W_VSJ3s3Mc"
      },
      "execution_count": null,
      "outputs": []
    },
    {
      "cell_type": "code",
      "source": [
        "#Ejemplo de Funcionamiento\n",
        "A=[[1,1,1,1,1],[2,2,2,2,2],[3,3,3,3,3]]\n",
        "Transpuesta(A)"
      ],
      "metadata": {
        "colab": {
          "base_uri": "https://localhost:8080/"
        },
        "id": "DFRgYcdBut81",
        "outputId": "991831f0-a1c0-40f8-95be-0b9377bc3db1"
      },
      "execution_count": null,
      "outputs": [
        {
          "output_type": "execute_result",
          "data": {
            "text/plain": [
              "[[1.0, 2.0, 3.0],\n",
              " [1.0, 2.0, 3.0],\n",
              " [1.0, 2.0, 3.0],\n",
              " [1.0, 2.0, 3.0],\n",
              " [1.0, 2.0, 3.0]]"
            ]
          },
          "metadata": {},
          "execution_count": 7
        }
      ]
    }
  ]
}