{
  "nbformat": 4,
  "nbformat_minor": 0,
  "metadata": {
    "colab": {
      "provenance": [],
      "authorship_tag": "ABX9TyP414dXgd2+kitnpMxwtNxG",
      "include_colab_link": true
    },
    "kernelspec": {
      "name": "python3",
      "display_name": "Python 3"
    },
    "language_info": {
      "name": "python"
    }
  },
  "cells": [
    {
      "cell_type": "markdown",
      "metadata": {
        "id": "view-in-github",
        "colab_type": "text"
      },
      "source": [
        "<a href=\"https://colab.research.google.com/github/DiegoRS24/Tarea1/blob/main/Ejercicio1.ipynb\" target=\"_parent\"><img src=\"https://colab.research.google.com/assets/colab-badge.svg\" alt=\"Open In Colab\"/></a>"
      ]
    },
    {
      "cell_type": "markdown",
      "source": [
        "Ejercicio 1."
      ],
      "metadata": {
        "id": "thM4r_CRejO3"
      }
    },
    {
      "cell_type": "markdown",
      "source": [
        "Con la estructura de datos list realice los siguientes programas"
      ],
      "metadata": {
        "id": "0kYUl633elxu"
      }
    },
    {
      "cell_type": "markdown",
      "source": [
        "Programe la multiplicacion de matrices, recuerde que no necesariamente tienen por que ser cuadradas, por lo que debera validar que se pueda realizar la multiplicacion."
      ],
      "metadata": {
        "id": "Jfg3gXFSgEi2"
      }
    },
    {
      "cell_type": "code",
      "source": [
        "\n",
        "import numpy as np\n",
        "#Multiplicacion de matrices\n",
        "def Multiplicacion(A, B):\n",
        "  \"\"\"\n",
        "    Calcula la multiplicación de matrices.\n",
        "\n",
        "    :param A: La matriz a la izquierda de la multiplicación.\n",
        "    :type A: list\n",
        "    :param B: La matriz a la derecha de la multiplicación.\n",
        "    :type B: list\n",
        "\n",
        "    Retorna:\n",
        "    :return: La Multiplicación de A y B en una matriz D\n",
        "    :rtype: list.\n",
        "  \"\"\"\n",
        "  #numero de columnas de A\n",
        "  n=len(A[0])\n",
        "\n",
        "  #numero de renglones de B\n",
        "  m=len(B)\n",
        "\n",
        "  #numero de columnas de B\n",
        "  n2=len(B[0])\n",
        "\n",
        "  #numero de renglones de A\n",
        "  m2=len(A)\n",
        "\n",
        "  #creando una matriz m2xn2\n",
        "  C = np.zeros((m2, n2))\n",
        "  if n!=m:\n",
        "    print(\"Imposible multiplicar esas matrices\")\n",
        "  else:\n",
        "    for i in range(m2):\n",
        "      for j in range(n2):\n",
        "        for k in range(n):\n",
        "         C[i][j]=C[i][j] + A[i][k]*B[k][j]\n",
        "  D = C.tolist()\n",
        "  return D"
      ],
      "metadata": {
        "id": "foMKYMAuhJao"
      },
      "execution_count": 24,
      "outputs": []
    },
    {
      "cell_type": "markdown",
      "source": [
        "Ejemplos de Funcionamiento"
      ],
      "metadata": {
        "id": "-Hr6E-gYeigF"
      }
    },
    {
      "cell_type": "code",
      "source": [
        "#Ejemplo de Matrices donde el numero de columnas de A es igual al numero de renglones de B pero no son cuadradas.\n",
        "A=[[1,1],[2,2],[3,3]]\n",
        "B=[[1,2,3,4,5],[5,4,3,2,1]]\n",
        "Multiplicacion(A, B)"
      ],
      "metadata": {
        "colab": {
          "base_uri": "https://localhost:8080/"
        },
        "id": "ggTvP4Tzjwle",
        "outputId": "3bd34db7-3f4f-4271-e370-c017def83f1e"
      },
      "execution_count": 20,
      "outputs": [
        {
          "output_type": "execute_result",
          "data": {
            "text/plain": [
              "[[6.0, 6.0, 6.0, 6.0, 6.0],\n",
              " [12.0, 12.0, 12.0, 12.0, 12.0],\n",
              " [18.0, 18.0, 18.0, 18.0, 18.0]]"
            ]
          },
          "metadata": {},
          "execution_count": 20
        }
      ]
    },
    {
      "cell_type": "code",
      "source": [
        "#Ejemplo de Matrices donde A y B son cuadradas\n",
        "E=[[1,1],[2,2]]\n",
        "F=[[1,1],[2,2]]\n",
        "Multiplicacion(E, F)"
      ],
      "metadata": {
        "colab": {
          "base_uri": "https://localhost:8080/"
        },
        "id": "eTKkDXGMfIAw",
        "outputId": "9530ad21-7f13-48e3-9d5c-7555596eb77b"
      },
      "execution_count": 23,
      "outputs": [
        {
          "output_type": "execute_result",
          "data": {
            "text/plain": [
              "[[3.0, 3.0], [6.0, 6.0]]"
            ]
          },
          "metadata": {},
          "execution_count": 23
        }
      ]
    },
    {
      "cell_type": "code",
      "source": [
        "#Ejemplo de Matrices donde el numero de columnas de A es diferente al numero de renglones de B.\n",
        "C=[[1],[2],[3]]\n",
        "D=[[1,2],[5,4]]\n",
        "Multiplicacion(C, D)"
      ],
      "metadata": {
        "colab": {
          "base_uri": "https://localhost:8080/"
        },
        "id": "Pafhzmvcer1v",
        "outputId": "be08f066-990b-4125-98e5-ace17c7818b9"
      },
      "execution_count": 19,
      "outputs": [
        {
          "output_type": "stream",
          "name": "stdout",
          "text": [
            "Imposible multiplicar esas matrices\n"
          ]
        },
        {
          "output_type": "execute_result",
          "data": {
            "text/plain": [
              "[[0.0, 0.0], [0.0, 0.0], [0.0, 0.0]]"
            ]
          },
          "metadata": {},
          "execution_count": 19
        }
      ]
    }
  ]
}
