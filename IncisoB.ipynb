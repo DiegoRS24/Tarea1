{
  "nbformat": 4,
  "nbformat_minor": 0,
  "metadata": {
    "colab": {
      "provenance": [],
      "authorship_tag": "ABX9TyN38WLNMJEb4bdPG/sAMJze",
      "include_colab_link": true
    },
    "kernelspec": {
      "name": "python3",
      "display_name": "Python 3"
    },
    "language_info": {
      "name": "python"
    }
  },
  "cells": [
    {
      "cell_type": "markdown",
      "metadata": {
        "id": "view-in-github",
        "colab_type": "text"
      },
      "source": [
        "<a href=\"https://colab.research.google.com/github/DiegoRS24/Tarea1/blob/main/IncisoB.ipynb\" target=\"_parent\"><img src=\"https://colab.research.google.com/assets/colab-badge.svg\" alt=\"Open In Colab\"/></a>"
      ]
    },
    {
      "cell_type": "markdown",
      "source": [
        "Programa el producto punto de dos vectores en Rn, por bloques. Note\n",
        "que para que esto tenga relevancia computacional, la n debe ser mayor\n",
        "que 50."
      ],
      "metadata": {
        "id": "bSgTPHC1omn8"
      }
    },
    {
      "cell_type": "code",
      "execution_count": 14,
      "metadata": {
        "id": "BiFdtvCwjwZ3"
      },
      "outputs": [],
      "source": [
        "def ProductoPunto(A, B):\n",
        "  \"\"\"\n",
        "    Calcula el producto punto de dos vectores en Rn\n",
        "\n",
        "    :param A: Primer vector a multiplicar, representado con una lista.\n",
        "    :type A: list\n",
        "    :param B: Segundo vector a multiplicar, representado con una lista.\n",
        "    :type B: list\n",
        "\n",
        "    Retorna:\n",
        "    :return: El producto punto de los vectores A y B.\n",
        "    :rtype: float.\n",
        "  \"\"\"\n",
        "  #Numero de elemntos de A\n",
        "  n = len(A)\n",
        "  #Numero de elementos de B\n",
        "  m = len(B)\n",
        "  #Valor por default de p como -1, pues el producto punto en Rn es mayor o igual que 0.\n",
        "  p = -.1\n",
        "  if n!=m:\n",
        "    print(\"Los vectores no son de la misma dimensión.\")\n",
        "  else:\n",
        "    p = 0\n",
        "    for i in range (n):\n",
        "      p += A[i]*B[i]\n",
        "  return p\n",
        "\n"
      ]
    },
    {
      "cell_type": "code",
      "source": [
        "#Ejemplo con ambos vectores en la misma dimension\n",
        "A=[1,1,2,2,3]\n",
        "B=[1,2,3,4,5]\n",
        "ProductoPunto(A,B)"
      ],
      "metadata": {
        "colab": {
          "base_uri": "https://localhost:8080/"
        },
        "id": "4L_dviMOrsJs",
        "outputId": "36683526-051f-4da9-d21b-dfdd8cebd191"
      },
      "execution_count": null,
      "outputs": [
        {
          "output_type": "execute_result",
          "data": {
            "text/plain": [
              "32"
            ]
          },
          "metadata": {},
          "execution_count": 9
        }
      ]
    },
    {
      "cell_type": "code",
      "source": [
        "#Ejemplo con vectores de dimension 50\n",
        "import numpy as np\n",
        "G = np.ones(50)\n",
        "H = G.tolist()\n",
        "I = 3*G\n",
        "J = I.tolist()\n",
        "print(H)\n",
        "print(J)\n",
        "#Vecotores de Dimension 50\n",
        "ProductoPunto(H,J)"
      ],
      "metadata": {
        "id": "4RSRxGhQwzjs",
        "outputId": "a096e745-989c-4d4f-8326-e15478d477ca",
        "colab": {
          "base_uri": "https://localhost:8080/"
        }
      },
      "execution_count": 21,
      "outputs": [
        {
          "output_type": "stream",
          "name": "stdout",
          "text": [
            "[1.0, 1.0, 1.0, 1.0, 1.0, 1.0, 1.0, 1.0, 1.0, 1.0, 1.0, 1.0, 1.0, 1.0, 1.0, 1.0, 1.0, 1.0, 1.0, 1.0, 1.0, 1.0, 1.0, 1.0, 1.0, 1.0, 1.0, 1.0, 1.0, 1.0, 1.0, 1.0, 1.0, 1.0, 1.0, 1.0, 1.0, 1.0, 1.0, 1.0, 1.0, 1.0, 1.0, 1.0, 1.0, 1.0, 1.0, 1.0, 1.0, 1.0]\n",
            "[3.0, 3.0, 3.0, 3.0, 3.0, 3.0, 3.0, 3.0, 3.0, 3.0, 3.0, 3.0, 3.0, 3.0, 3.0, 3.0, 3.0, 3.0, 3.0, 3.0, 3.0, 3.0, 3.0, 3.0, 3.0, 3.0, 3.0, 3.0, 3.0, 3.0, 3.0, 3.0, 3.0, 3.0, 3.0, 3.0, 3.0, 3.0, 3.0, 3.0, 3.0, 3.0, 3.0, 3.0, 3.0, 3.0, 3.0, 3.0, 3.0, 3.0]\n"
          ]
        },
        {
          "output_type": "execute_result",
          "data": {
            "text/plain": [
              "150.0"
            ]
          },
          "metadata": {},
          "execution_count": 21
        }
      ]
    },
    {
      "cell_type": "code",
      "source": [
        "#Ejemplo con vectores en distinta dimension\n",
        "A=[1,2]\n",
        "B=[1,2,3,4,5]\n",
        "ProductoPunto(A,B)"
      ],
      "metadata": {
        "colab": {
          "base_uri": "https://localhost:8080/"
        },
        "id": "6LCvXvOcsRgG",
        "outputId": "9b6f36b0-36c0-44fe-94b9-e41fa6fc49f1"
      },
      "execution_count": 16,
      "outputs": [
        {
          "output_type": "stream",
          "name": "stdout",
          "text": [
            "Los vectores no son de la misma dimensión.\n"
          ]
        },
        {
          "output_type": "execute_result",
          "data": {
            "text/plain": [
              "-0.1"
            ]
          },
          "metadata": {},
          "execution_count": 16
        }
      ]
    }
  ]
}