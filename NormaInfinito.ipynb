{
  "nbformat": 4,
  "nbformat_minor": 0,
  "metadata": {
    "colab": {
      "provenance": [],
      "authorship_tag": "ABX9TyPt3SUFshKNH6VtQ9rgebmX",
      "include_colab_link": true
    },
    "kernelspec": {
      "name": "python3",
      "display_name": "Python 3"
    },
    "language_info": {
      "name": "python"
    }
  },
  "cells": [
    {
      "cell_type": "markdown",
      "metadata": {
        "id": "view-in-github",
        "colab_type": "text"
      },
      "source": [
        "<a href=\"https://colab.research.google.com/github/DiegoRS24/Tarea1/blob/main/NormaInfinito.ipynb\" target=\"_parent\"><img src=\"https://colab.research.google.com/assets/colab-badge.svg\" alt=\"Open In Colab\"/></a>"
      ]
    },
    {
      "cell_type": "markdown",
      "source": [
        "Calcule la norma infinito"
      ],
      "metadata": {
        "id": "wdAFvL0t0ggj"
      }
    },
    {
      "cell_type": "code",
      "execution_count": 5,
      "metadata": {
        "id": "qpxNqORuwMYs"
      },
      "outputs": [],
      "source": [
        "import numpy as np\n",
        "#Norma infinito de una Matriz\n",
        "def NormaInfinito(A):\n",
        "  \"\"\"\n",
        "    Calcula la norma infinito de una Matriz.\n",
        "\n",
        "    :param A: Una Matriz representada en una lista\n",
        "    :type A: list\n",
        "\n",
        "    Retorna:\n",
        "    :return: Un numero que es el valor de la norma infinito de A\n",
        "    :type: float.\n",
        "  \"\"\"\n",
        "  #numero de columnas de A\n",
        "  n=len(A[0])\n",
        "  #numero de renglones de A\n",
        "  m=len(A)\n",
        "  #creando un arreglo de longitud m\n",
        "  C = np.zeros(m)\n",
        "  for i in range(m):\n",
        "    for j in range(n):\n",
        "      if A[i][j]<0:\n",
        "        C[i] += A[i][j]*-1\n",
        "      else:\n",
        "        C[i] += A[i][j]\n",
        "  #Busqueda del máximo\n",
        "  x = 0\n",
        "  for i in range(m):\n",
        "    if x < C[i]:\n",
        "      x = C[i]\n",
        "  return x"
      ]
    },
    {
      "cell_type": "code",
      "source": [
        "#Ejemplo\n",
        "A=[[1,-2],[3,4],[-5,6]]\n",
        "NormaInfinito(A)"
      ],
      "metadata": {
        "colab": {
          "base_uri": "https://localhost:8080/"
        },
        "id": "Q1aj9Znizl0u",
        "outputId": "3ce97cab-1f21-4e13-87c9-d15e7c592900"
      },
      "execution_count": 10,
      "outputs": [
        {
          "output_type": "execute_result",
          "data": {
            "text/plain": [
              "11.0"
            ]
          },
          "metadata": {},
          "execution_count": 10
        }
      ]
    },
    {
      "cell_type": "code",
      "source": [
        "#Ejemplo que visualiza el valor absoluto\n",
        "A=[[0,1,1,1,1,1,1],[-1,-1,-1,-1,-1,-1,-1]]\n",
        "NormaInfinito(A)"
      ],
      "metadata": {
        "colab": {
          "base_uri": "https://localhost:8080/"
        },
        "id": "N5m772l60Caj",
        "outputId": "42637618-b710-4115-d811-a8f2e66863f2"
      },
      "execution_count": 11,
      "outputs": [
        {
          "output_type": "execute_result",
          "data": {
            "text/plain": [
              "7.0"
            ]
          },
          "metadata": {},
          "execution_count": 11
        }
      ]
    }
  ]
}