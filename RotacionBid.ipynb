{
  "nbformat": 4,
  "nbformat_minor": 0,
  "metadata": {
    "colab": {
      "provenance": [],
      "authorship_tag": "ABX9TyOjhLM30Bzs2Tg/EXgNNBE5",
      "include_colab_link": true
    },
    "kernelspec": {
      "name": "python3",
      "display_name": "Python 3"
    },
    "language_info": {
      "name": "python"
    }
  },
  "cells": [
    {
      "cell_type": "markdown",
      "metadata": {
        "id": "view-in-github",
        "colab_type": "text"
      },
      "source": [
        "<a href=\"https://colab.research.google.com/github/DiegoRS24/Tarea1/blob/main/RotacionBid.ipynb\" target=\"_parent\"><img src=\"https://colab.research.google.com/assets/colab-badge.svg\" alt=\"Open In Colab\"/></a>"
      ]
    },
    {
      "cell_type": "markdown",
      "source": [
        "Crear un programa que aplique una rotacion de un vector bidimensional\n",
        "mediante una matriz de rotacion.\n"
      ],
      "metadata": {
        "id": "Kp_ruHsgcijw"
      }
    },
    {
      "cell_type": "code",
      "source": [
        "import numpy as np\n",
        "#Código del primer inciso del ejercicio 1\n",
        "def Multiplicacion(A, B):\n",
        "  n=len(A[0])\n",
        "  m=len(B)\n",
        "  n2=len(B[0])\n",
        "  m2=len(A)\n",
        "  C = np.zeros((m2, n2))\n",
        "  if n!=m:\n",
        "    print(\"Imposible multiplicar esas matrices\")\n",
        "  else:\n",
        "    for i in range(m2):\n",
        "      for j in range(n2):\n",
        "        for k in range(n):\n",
        "         C[i][j]=C[i][j] + A[i][k]*B[k][j]\n",
        "  D = C.tolist()\n",
        "  return D"
      ],
      "metadata": {
        "id": "HG34PqkthLlg"
      },
      "execution_count": 10,
      "outputs": []
    },
    {
      "cell_type": "code",
      "execution_count": 16,
      "metadata": {
        "id": "02aYyBXYchPV"
      },
      "outputs": [],
      "source": [
        "#Rotacion Bidimensional\n",
        "def RotacionBi(A, o):\n",
        "  \"\"\"\n",
        "    Rota un Vector \"o\" grados\n",
        "\n",
        "    :param A: Un vector representado con una Lista\n",
        "    :type A: list\n",
        "\n",
        "    :param o: Un numero que representa el angulo de rotación\n",
        "    :type z: float\n",
        "\n",
        "    Retorna:\n",
        "    :return: Un vector B que es el vector A rotado o grados\n",
        "    :type: list.\n",
        "  \"\"\"\n",
        "  B = []\n",
        "  if len(A)== 2:\n",
        "    #Creando matriz de rotacion\n",
        "    sen = np.sin(np.deg2rad(o))\n",
        "    cos = np.cos(np.deg2rad(o))\n",
        "    M = [[cos, -1*sen],[sen, cos]]\n",
        "    #Multiplicando A con la matriz de Rotacion\n",
        "    B = Multiplicacion(M, A)\n",
        "  else:\n",
        "    print(\"Vector incompatible\")\n",
        "  return B\n"
      ]
    },
    {
      "cell_type": "code",
      "source": [
        "#Ejemplo válido en el programa\n",
        "A = [[1],[-1]]\n",
        "RotacionBi(A,360)"
      ],
      "metadata": {
        "colab": {
          "base_uri": "https://localhost:8080/"
        },
        "id": "InGSn29Gf7Jg",
        "outputId": "3e27a7c3-61c6-4502-ca8b-1a306abb31f6"
      },
      "execution_count": 20,
      "outputs": [
        {
          "output_type": "execute_result",
          "data": {
            "text/plain": [
              "[[0.9999999999999998], [-1.0000000000000002]]"
            ]
          },
          "metadata": {},
          "execution_count": 20
        }
      ]
    },
    {
      "cell_type": "code",
      "source": [
        "#Ejemplo No válido en el programa\n",
        "A = [[1],[-1],[2]]\n",
        "RotacionBi(A,90)"
      ],
      "metadata": {
        "colab": {
          "base_uri": "https://localhost:8080/"
        },
        "id": "eDOYnqa6kcoP",
        "outputId": "b5adeb3f-0823-422e-d0f4-f26581aae265"
      },
      "execution_count": 21,
      "outputs": [
        {
          "output_type": "stream",
          "name": "stdout",
          "text": [
            "Vector incompatible\n"
          ]
        },
        {
          "output_type": "execute_result",
          "data": {
            "text/plain": [
              "[]"
            ]
          },
          "metadata": {},
          "execution_count": 21
        }
      ]
    }
  ]
}