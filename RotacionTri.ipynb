{
  "nbformat": 4,
  "nbformat_minor": 0,
  "metadata": {
    "colab": {
      "provenance": [],
      "authorship_tag": "ABX9TyOTnZnBUUhbH0GHsmftO8Ud",
      "include_colab_link": true
    },
    "kernelspec": {
      "name": "python3",
      "display_name": "Python 3"
    },
    "language_info": {
      "name": "python"
    }
  },
  "cells": [
    {
      "cell_type": "markdown",
      "metadata": {
        "id": "view-in-github",
        "colab_type": "text"
      },
      "source": [
        "<a href=\"https://colab.research.google.com/github/DiegoRS24/Tarea1/blob/main/RotacionTri.ipynb\" target=\"_parent\"><img src=\"https://colab.research.google.com/assets/colab-badge.svg\" alt=\"Open In Colab\"/></a>"
      ]
    },
    {
      "cell_type": "markdown",
      "source": [
        "Crear un programa que aplique una rotacion de un vector tridimensional\n",
        "mediante una matriz de rotacion."
      ],
      "metadata": {
        "id": "kuJ1CP5Zk0cv"
      }
    },
    {
      "cell_type": "code",
      "source": [
        "import numpy as np\n",
        "#Código del primer inciso del ejercicio 1\n",
        "def Multiplicacion(A, B):\n",
        "  n=len(A[0])\n",
        "  m=len(B)\n",
        "  n2=len(B[0])\n",
        "  m2=len(A)\n",
        "  C = np.zeros((m2, n2))\n",
        "  if n!=m:\n",
        "    print(\"Imposible multiplicar esas matrices\")\n",
        "  else:\n",
        "    for i in range(m2):\n",
        "      for j in range(n2):\n",
        "        for k in range(n):\n",
        "         C[i][j]=C[i][j] + A[i][k]*B[k][j]\n",
        "  D = C.tolist()\n",
        "  return D"
      ],
      "metadata": {
        "id": "01OTeDDEk4cL"
      },
      "execution_count": 4,
      "outputs": []
    },
    {
      "cell_type": "code",
      "source": [
        "#Rotacion Tridimensional\n",
        "def RotacionTri(A, o):\n",
        "  \"\"\"\n",
        "    Rota un Vector \"o\" grados con la Matriz de rotacion:\n",
        "    ([  1   ,   0   ,      0]\n",
        "     [  0   , cos(o),-sen(o)]\n",
        "     [  0   , sen(o), cos(o)])\n",
        "\n",
        "    :param A: Un vector representado con una Lista\n",
        "    :type A: list\n",
        "\n",
        "    :param o: Un numero que representa el angulo de rotación\n",
        "    :type z: float\n",
        "\n",
        "    Retorna:\n",
        "    :return: Un vector B que es el vector A rotado o grados\n",
        "    :type: list.\n",
        "  \"\"\"\n",
        "  B = []\n",
        "  if len(A)== 3:\n",
        "    #Creando matriz de rotacion\n",
        "    sen = np.sin(np.deg2rad(o))\n",
        "    cos = np.cos(np.deg2rad(o))\n",
        "    M = [[1,0,0],[0,cos, -1*sen],[0, sen, cos]]\n",
        "    #Multiplicando A con la matriz de Rotacion\n",
        "    B = Multiplicacion(M, A)\n",
        "  else:\n",
        "    print(\"Vector incompatible\")\n",
        "  return B"
      ],
      "metadata": {
        "id": "gj4rjdY9k84I"
      },
      "execution_count": 5,
      "outputs": []
    },
    {
      "cell_type": "code",
      "source": [
        "#Ejemplo válido en el programa\n",
        "A = [[1],[-1],[0]]\n",
        "RotacionTri(A,360)"
      ],
      "metadata": {
        "colab": {
          "base_uri": "https://localhost:8080/"
        },
        "id": "UWTVwfMim9z4",
        "outputId": "cf743f01-d8bd-4e91-d248-3caee1c002ec"
      },
      "execution_count": 8,
      "outputs": [
        {
          "output_type": "execute_result",
          "data": {
            "text/plain": [
              "[[1.0], [-1.0], [2.4492935982947064e-16]]"
            ]
          },
          "metadata": {},
          "execution_count": 8
        }
      ]
    },
    {
      "cell_type": "code",
      "source": [
        "#Ejemplo válido en el programa\n",
        "A = [[1],[-1],[0], [1]]\n",
        "RotacionTri(A,360)"
      ],
      "metadata": {
        "colab": {
          "base_uri": "https://localhost:8080/"
        },
        "id": "dZ4wuLRnnT-o",
        "outputId": "017db5bc-ff99-4305-b8ab-0fe5e3c94421"
      },
      "execution_count": 7,
      "outputs": [
        {
          "output_type": "stream",
          "name": "stdout",
          "text": [
            "Vector incompatible\n"
          ]
        },
        {
          "output_type": "execute_result",
          "data": {
            "text/plain": [
              "[]"
            ]
          },
          "metadata": {},
          "execution_count": 7
        }
      ]
    }
  ]
}