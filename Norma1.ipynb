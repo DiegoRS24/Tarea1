{
  "nbformat": 4,
  "nbformat_minor": 0,
  "metadata": {
    "colab": {
      "provenance": [],
      "authorship_tag": "ABX9TyNNG3p+S3NvfpPVwEnyYn8v",
      "include_colab_link": true
    },
    "kernelspec": {
      "name": "python3",
      "display_name": "Python 3"
    },
    "language_info": {
      "name": "python"
    }
  },
  "cells": [
    {
      "cell_type": "markdown",
      "metadata": {
        "id": "view-in-github",
        "colab_type": "text"
      },
      "source": [
        "<a href=\"https://colab.research.google.com/github/DiegoRS24/Tarea1/blob/main/Norma1.ipynb\" target=\"_parent\"><img src=\"https://colab.research.google.com/assets/colab-badge.svg\" alt=\"Open In Colab\"/></a>"
      ]
    },
    {
      "cell_type": "markdown",
      "source": [
        "Calcule la norma 1"
      ],
      "metadata": {
        "id": "qUa2zPhpoWQ2"
      }
    },
    {
      "cell_type": "code",
      "execution_count": 24,
      "metadata": {
        "id": "ojjVGguAnuXL"
      },
      "outputs": [],
      "source": [
        "import numpy as np\n",
        "#Norma 1 de una Matriz\n",
        "def Norma1(A):\n",
        "  \"\"\"\n",
        "    Calcula la norma 1 de una Matriz.\n",
        "\n",
        "    :param A: Una Matriz representada en una lista\n",
        "    :type A: list\n",
        "\n",
        "    Retorna:\n",
        "    :return: Un numero que es el valor de la norma 1 de A\n",
        "    :type: float.\n",
        "  \"\"\"\n",
        "  #numero de columnas de A\n",
        "  n=len(A[0])\n",
        "  #numero de renglones de A\n",
        "  m=len(A)\n",
        "  #creando un arreglo de longitud n\n",
        "  C = np.zeros(n)\n",
        "  for i in range(n):\n",
        "    for j in range(m):\n",
        "      if A[j][i]<0:\n",
        "        C[i] += A[j][i]*-1\n",
        "      else:\n",
        "        C[i] += A[j][i]\n",
        "  #Busqueda del máximo\n",
        "  x = 0\n",
        "  for i in range(n):\n",
        "    if x < C[i]:\n",
        "      x = C[i]\n",
        "  return x\n"
      ]
    },
    {
      "cell_type": "code",
      "source": [
        "#Ejemplo\n",
        "A=[[7,-5],[-8,-9]]\n",
        "Norma1(A)"
      ],
      "metadata": {
        "colab": {
          "base_uri": "https://localhost:8080/"
        },
        "id": "MjQkTY1AtmRH",
        "outputId": "2322cd4b-13cd-4d92-bc8d-caf54c91c40a"
      },
      "execution_count": 25,
      "outputs": [
        {
          "output_type": "execute_result",
          "data": {
            "text/plain": [
              "15.0"
            ]
          },
          "metadata": {},
          "execution_count": 25
        }
      ]
    },
    {
      "cell_type": "code",
      "source": [
        "#Ejemplo que visualiza el valor absoluto\n",
        "B=[[0,-1], [1,-1],[1,-1],[1,-1],[1,-1],[1,-1],[1,-1]]\n",
        "Norma1(B)"
      ],
      "metadata": {
        "colab": {
          "base_uri": "https://localhost:8080/"
        },
        "id": "hk5qi52Jurc9",
        "outputId": "8d014183-9efe-4397-9ee7-bfba8288c9cf"
      },
      "execution_count": 27,
      "outputs": [
        {
          "output_type": "execute_result",
          "data": {
            "text/plain": [
              "7.0"
            ]
          },
          "metadata": {},
          "execution_count": 27
        }
      ]
    }
  ]
}